{
  "nbformat": 4,
  "nbformat_minor": 0,
  "metadata": {
    "colab": {
      "provenance": []
    },
    "kernelspec": {
      "name": "python3",
      "display_name": "Python 3"
    }
  },
  "cells": [
    {
      "cell_type": "markdown",
      "metadata": {
        "id": "KJqp9AANOCtf"
      },
      "source": [
        "<img src=\"https://raw.githubusercontent.com/andre-marcos-perez/ebac-course-utils/main/media/logo/newebac_logo_black_half.png\" alt=\"ebac-logo\">\n",
        "\n",
        "---\n",
        "\n",
        "# **Módulo** | Análise de Dados: Fundamentos de Matemática\n",
        "Caderno de **Exercícios**<br>\n",
        "Professor [André Perez](https://www.linkedin.com/in/andremarcosperez/)\n",
        "\n",
        "---"
      ]
    },
    {
      "cell_type": "markdown",
      "metadata": {
        "id": "d9jDtUbDOE1-"
      },
      "source": [
        "# **Tópicos**\n",
        "\n",
        "<ol type=\"1\">\n",
        "  <li>Vetorização;</li>\n",
        "  <li>Arrays Numpy;</li>\n",
        "  <li>Operações.</li>\n",
        "</ol>"
      ]
    },
    {
      "cell_type": "markdown",
      "metadata": {
        "id": "SmoHgt-lwkpD"
      },
      "source": [
        "---"
      ]
    },
    {
      "cell_type": "markdown",
      "metadata": {
        "id": "GABI6OW8OfQ2"
      },
      "source": [
        "# **Exercícios**"
      ]
    },
    {
      "cell_type": "markdown",
      "metadata": {
        "id": "kzRDceCvkFj2"
      },
      "source": [
        "## 1\\. Tráfego de São Paulo"
      ]
    },
    {
      "cell_type": "markdown",
      "metadata": {
        "id": "WCQi-s0Hpd5V"
      },
      "source": [
        "Neste exercício, vamos analisar dados de mobilidade urbana da cidade de São Paulo. A base de dados está neste [link](https://raw.githubusercontent.com/andre-marcos-perez/ebac-course-utils/develop/dataset/traffic.csv) e é uma copia do dado original, presente neste [link](https://archive.ics.uci.edu/ml/datasets/Behavior+of+the+urban+traffic+of+the+city+of+Sao+Paulo+in+Brazil). A base de dados contem a quantidade de acidentes ocorridos na cidade entre 14/12/09 e 18/12/09, das 07:00h ás 20:00h, agregados em intervalos de 30 minutos."
      ]
    },
    {
      "cell_type": "code",
      "metadata": {
        "id": "lblH8kIXzPZZ"
      },
      "source": [
        "!wget -q \"https://raw.githubusercontent.com/andre-marcos-perez/ebac-course-utils/develop/dataset/traffic.csv\" -O traffic.csv"
      ],
      "execution_count": null,
      "outputs": []
    },
    {
      "cell_type": "code",
      "metadata": {
        "id": "cuuqGTo_ffKI"
      },
      "source": [
        "import pandas as pd"
      ],
      "execution_count": null,
      "outputs": []
    },
    {
      "cell_type": "code",
      "metadata": {
        "id": "VR3UdrrQgJ4K"
      },
      "source": [
        "df = pd.read_csv('traffic.csv', sep=';')"
      ],
      "execution_count": null,
      "outputs": []
    },
    {
      "cell_type": "code",
      "metadata": {
        "id": "znk9Z9TLgTGP",
        "colab": {
          "base_uri": "https://localhost:8080/",
          "height": 140
        },
        "outputId": "c7aeae99-d42f-43be-d122-90f8726bd6dc"
      },
      "source": [
        "df.head()"
      ],
      "execution_count": null,
      "outputs": [
        {
          "output_type": "error",
          "ename": "SyntaxError",
          "evalue": "ignored",
          "traceback": [
            "\u001b[0;36m  File \u001b[0;32m\"<ipython-input-35-f9c2045223f3>\"\u001b[0;36m, line \u001b[0;32m1\u001b[0m\n\u001b[0;31m    df.head([80:107])\u001b[0m\n\u001b[0m               ^\u001b[0m\n\u001b[0;31mSyntaxError\u001b[0m\u001b[0;31m:\u001b[0m invalid syntax\n"
          ]
        }
      ]
    },
    {
      "cell_type": "markdown",
      "metadata": {
        "id": "eMG4JHaugQbV"
      },
      "source": [
        "- **Exemplo**:"
      ]
    },
    {
      "cell_type": "markdown",
      "metadata": {
        "id": "WGcei39Pwc9u"
      },
      "source": [
        "O código abaixo extrai a 13ª linha do arquivo que representa a 14ª meia hora do dia 14/12/09, contadas a partir das 07:00h, ou seja, todos os incidentes ocorridos na cidade no dia em questão entre as 13:30h e 14:00h. Vemos, por exemplo, que dois ônibus e dois caminhões ficaram paradados nas ruas da cidade, atrapalhando o tráfego."
      ]
    },
    {
      "cell_type": "code",
      "metadata": {
        "id": "rVUKA_RkiFeg",
        "colab": {
          "base_uri": "https://localhost:8080/",
          "height": 101
        },
        "outputId": "9e77d3a9-15ed-4aa7-ef79-02499766d384"
      },
      "source": [
        "df.iloc[[107]]"
      ],
      "execution_count": null,
      "outputs": [
        {
          "output_type": "execute_result",
          "data": {
            "text/plain": [
              "     hour  bus_stoped  broken_truck  vehicle_excess  accident_victim  \\\n",
              "107    27           0             3               0                1   \n",
              "\n",
              "     running_over  fire_vehicles  occurrence_freight  \\\n",
              "107             0              0                   0   \n",
              "\n",
              "     incident__dangerous_freight  lack_electricity  fire  flooding  \\\n",
              "107                            0                 1     0         7   \n",
              "\n",
              "     manifestations  defect_trolleybuses  tree_road  semaphore_off  \\\n",
              "107               0                    2          0              1   \n",
              "\n",
              "     intermittent_emaphore slowness_traffic_%  \n",
              "107                      0               22,1  "
            ],
            "text/html": [
              "\n",
              "  <div id=\"df-27accee9-9d7c-49df-8136-78aae8f2f866\" class=\"colab-df-container\">\n",
              "    <div>\n",
              "<style scoped>\n",
              "    .dataframe tbody tr th:only-of-type {\n",
              "        vertical-align: middle;\n",
              "    }\n",
              "\n",
              "    .dataframe tbody tr th {\n",
              "        vertical-align: top;\n",
              "    }\n",
              "\n",
              "    .dataframe thead th {\n",
              "        text-align: right;\n",
              "    }\n",
              "</style>\n",
              "<table border=\"1\" class=\"dataframe\">\n",
              "  <thead>\n",
              "    <tr style=\"text-align: right;\">\n",
              "      <th></th>\n",
              "      <th>hour</th>\n",
              "      <th>bus_stoped</th>\n",
              "      <th>broken_truck</th>\n",
              "      <th>vehicle_excess</th>\n",
              "      <th>accident_victim</th>\n",
              "      <th>running_over</th>\n",
              "      <th>fire_vehicles</th>\n",
              "      <th>occurrence_freight</th>\n",
              "      <th>incident__dangerous_freight</th>\n",
              "      <th>lack_electricity</th>\n",
              "      <th>fire</th>\n",
              "      <th>flooding</th>\n",
              "      <th>manifestations</th>\n",
              "      <th>defect_trolleybuses</th>\n",
              "      <th>tree_road</th>\n",
              "      <th>semaphore_off</th>\n",
              "      <th>intermittent_emaphore</th>\n",
              "      <th>slowness_traffic_%</th>\n",
              "    </tr>\n",
              "  </thead>\n",
              "  <tbody>\n",
              "    <tr>\n",
              "      <th>107</th>\n",
              "      <td>27</td>\n",
              "      <td>0</td>\n",
              "      <td>3</td>\n",
              "      <td>0</td>\n",
              "      <td>1</td>\n",
              "      <td>0</td>\n",
              "      <td>0</td>\n",
              "      <td>0</td>\n",
              "      <td>0</td>\n",
              "      <td>1</td>\n",
              "      <td>0</td>\n",
              "      <td>7</td>\n",
              "      <td>0</td>\n",
              "      <td>2</td>\n",
              "      <td>0</td>\n",
              "      <td>1</td>\n",
              "      <td>0</td>\n",
              "      <td>22,1</td>\n",
              "    </tr>\n",
              "  </tbody>\n",
              "</table>\n",
              "</div>\n",
              "    <div class=\"colab-df-buttons\">\n",
              "\n",
              "  <div class=\"colab-df-container\">\n",
              "    <button class=\"colab-df-convert\" onclick=\"convertToInteractive('df-27accee9-9d7c-49df-8136-78aae8f2f866')\"\n",
              "            title=\"Convert this dataframe to an interactive table.\"\n",
              "            style=\"display:none;\">\n",
              "\n",
              "  <svg xmlns=\"http://www.w3.org/2000/svg\" height=\"24px\" viewBox=\"0 -960 960 960\">\n",
              "    <path d=\"M120-120v-720h720v720H120Zm60-500h600v-160H180v160Zm220 220h160v-160H400v160Zm0 220h160v-160H400v160ZM180-400h160v-160H180v160Zm440 0h160v-160H620v160ZM180-180h160v-160H180v160Zm440 0h160v-160H620v160Z\"/>\n",
              "  </svg>\n",
              "    </button>\n",
              "\n",
              "  <style>\n",
              "    .colab-df-container {\n",
              "      display:flex;\n",
              "      gap: 12px;\n",
              "    }\n",
              "\n",
              "    .colab-df-convert {\n",
              "      background-color: #E8F0FE;\n",
              "      border: none;\n",
              "      border-radius: 50%;\n",
              "      cursor: pointer;\n",
              "      display: none;\n",
              "      fill: #1967D2;\n",
              "      height: 32px;\n",
              "      padding: 0 0 0 0;\n",
              "      width: 32px;\n",
              "    }\n",
              "\n",
              "    .colab-df-convert:hover {\n",
              "      background-color: #E2EBFA;\n",
              "      box-shadow: 0px 1px 2px rgba(60, 64, 67, 0.3), 0px 1px 3px 1px rgba(60, 64, 67, 0.15);\n",
              "      fill: #174EA6;\n",
              "    }\n",
              "\n",
              "    .colab-df-buttons div {\n",
              "      margin-bottom: 4px;\n",
              "    }\n",
              "\n",
              "    [theme=dark] .colab-df-convert {\n",
              "      background-color: #3B4455;\n",
              "      fill: #D2E3FC;\n",
              "    }\n",
              "\n",
              "    [theme=dark] .colab-df-convert:hover {\n",
              "      background-color: #434B5C;\n",
              "      box-shadow: 0px 1px 3px 1px rgba(0, 0, 0, 0.15);\n",
              "      filter: drop-shadow(0px 1px 2px rgba(0, 0, 0, 0.3));\n",
              "      fill: #FFFFFF;\n",
              "    }\n",
              "  </style>\n",
              "\n",
              "    <script>\n",
              "      const buttonEl =\n",
              "        document.querySelector('#df-27accee9-9d7c-49df-8136-78aae8f2f866 button.colab-df-convert');\n",
              "      buttonEl.style.display =\n",
              "        google.colab.kernel.accessAllowed ? 'block' : 'none';\n",
              "\n",
              "      async function convertToInteractive(key) {\n",
              "        const element = document.querySelector('#df-27accee9-9d7c-49df-8136-78aae8f2f866');\n",
              "        const dataTable =\n",
              "          await google.colab.kernel.invokeFunction('convertToInteractive',\n",
              "                                                    [key], {});\n",
              "        if (!dataTable) return;\n",
              "\n",
              "        const docLinkHtml = 'Like what you see? Visit the ' +\n",
              "          '<a target=\"_blank\" href=https://colab.research.google.com/notebooks/data_table.ipynb>data table notebook</a>'\n",
              "          + ' to learn more about interactive tables.';\n",
              "        element.innerHTML = '';\n",
              "        dataTable['output_type'] = 'display_data';\n",
              "        await google.colab.output.renderOutput(dataTable, element);\n",
              "        const docLink = document.createElement('div');\n",
              "        docLink.innerHTML = docLinkHtml;\n",
              "        element.appendChild(docLink);\n",
              "      }\n",
              "    </script>\n",
              "  </div>\n",
              "\n",
              "    </div>\n",
              "  </div>\n"
            ]
          },
          "metadata": {},
          "execution_count": 37
        }
      ]
    },
    {
      "cell_type": "markdown",
      "metadata": {
        "id": "HrTLgE0tki6P"
      },
      "source": [
        "### **1.1. Nativo**"
      ]
    },
    {
      "cell_type": "markdown",
      "metadata": {
        "id": "7tIjNOs8q6aZ"
      },
      "source": [
        "Neste primeira atividade, você deve ler o código abaixo implementado em Python nativo e responder a seguinte pergunta:"
      ]
    },
    {
      "cell_type": "markdown",
      "metadata": {
        "id": "LH-VxJ__syZd"
      },
      "source": [
        "> O que o código abaixo computa?"
      ]
    },
    {
      "cell_type": "markdown",
      "metadata": {
        "id": "KEUTG1OIs0VN"
      },
      "source": [
        "**Resposta**: O código retorna o número total de incidentes nos dias 14, 15, 16, 17 e 18"
      ]
    },
    {
      "cell_type": "code",
      "metadata": {
        "id": "IwTTh4VKkdKN",
        "colab": {
          "base_uri": "https://localhost:8080/"
        },
        "outputId": "d0fa6ebf-6acb-440f-9a09-e3ad0d1b8151"
      },
      "source": [
        "# -- read\n",
        "\n",
        "data = None\n",
        "\n",
        "with open(file='traffic.csv', mode='r', encoding='utf8') as fp:\n",
        "\n",
        "  fp.readline()\n",
        "  data = fp.read()\n",
        "\n",
        "# -- analytics\n",
        "\n",
        "day = 14\n",
        "incidents = 0\n",
        "incident_by_day = dict()\n",
        "\n",
        "for timebox in data.split(sep='\\n'):\n",
        "\n",
        "  timebox_data = timebox.split(sep=';')\n",
        "\n",
        "  # --\n",
        "  # -- inicio da computação escalar\n",
        "  # --\n",
        "\n",
        "  for incident in timebox_data[1: len(timebox_data)-1]:  # extrai os incidentes do inicio até o final da lista de incidentes\n",
        "    incidents = incidents + int(incident)\n",
        "\n",
        "  # --\n",
        "  # -- fim da computação escalar\n",
        "  # --\n",
        "\n",
        "  try:\n",
        "\n",
        "    half_hour = int(timebox_data[0])\n",
        "\n",
        "    if half_hour == 27:\n",
        "      incident_by_day[day] = incidents\n",
        "      day = day + 1\n",
        "      incidents = 0\n",
        "\n",
        "  except ValueError:\n",
        "    continue\n",
        "\n",
        "# -- results\n",
        "\n",
        "for day in incident_by_day:\n",
        "\n",
        "  print(f'{day}: {incident_by_day[day]}')"
      ],
      "execution_count": null,
      "outputs": [
        {
          "output_type": "stream",
          "name": "stdout",
          "text": [
            "14: 16\n",
            "15: 63\n",
            "16: 94\n",
            "17: 82\n",
            "18: 85\n"
          ]
        }
      ]
    },
    {
      "cell_type": "code",
      "source": [
        "print(data[80:1100])"
      ],
      "metadata": {
        "colab": {
          "base_uri": "https://localhost:8080/"
        },
        "id": "sbUZ2S3hRpwu",
        "outputId": "a9991ebf-42c7-4325-9b59-dfc5249e04e0"
      },
      "execution_count": null,
      "outputs": [
        {
          "output_type": "stream",
          "name": "stdout",
          "text": [
            "<class 'str'>\n"
          ]
        }
      ]
    },
    {
      "cell_type": "markdown",
      "metadata": {
        "id": "TTh7w8rgkznY"
      },
      "source": [
        "### **1.2. NumPy**"
      ]
    },
    {
      "cell_type": "markdown",
      "metadata": {
        "id": "clBerimQs2PY"
      },
      "source": [
        "Substitua o trecho do código do algoritmo que utiliza da **computação escalar** por um que utiliza da **computação vetorial**. Use o pacote NumPy."
      ]
    },
    {
      "cell_type": "code",
      "metadata": {
        "id": "fohdVuLzkdKP",
        "colab": {
          "base_uri": "https://localhost:8080/"
        },
        "outputId": "6ab6034e-634c-430c-8558-8dc1df7c2d72"
      },
      "source": [
        "# -- read\n",
        "\n",
        "data = None\n",
        "\n",
        "with open(file='traffic.csv', mode='r', encoding='utf8') as fp:\n",
        "\n",
        "  fp.readline()\n",
        "  data = fp.read()\n",
        "\n",
        "# -- analytics\n",
        "\n",
        "import numpy as np\n",
        "\n",
        "day = 14\n",
        "incidents = 0\n",
        "incident_by_day = dict()\n",
        "\n",
        "for timebox in data.split(sep='\\n'):\n",
        "\n",
        "  timebox_data = timebox.split(sep=';')\n",
        "\n",
        "  # --\n",
        "  # -- inicio da computação vetorial\n",
        "  # --\n",
        "  dados_vetorizados = np.asarray(timebox_data[0:len(timebox_data)-1], dtype=int)\n",
        "  incidents = incidents + dados_vetorizados[1:len(dados_vetorizados)-1].sum()\n",
        "  # -- fim da computação vetorial\n",
        "  # --\n",
        "\n",
        "  try:\n",
        "\n",
        "    half_hour = int(timebox_data[0])\n",
        "\n",
        "    if half_hour == 27:\n",
        "      incident_by_day[day] = incidents\n",
        "      day = day + 1\n",
        "      incidents = 0\n",
        "\n",
        "  except ValueError:\n",
        "    continue\n",
        "\n",
        "# -- results\n",
        "\n",
        "for day in incident_by_day:\n",
        "\n",
        "  print(f'{day}: {incident_by_day[day]}')"
      ],
      "execution_count": null,
      "outputs": [
        {
          "output_type": "stream",
          "name": "stdout",
          "text": [
            "14: 16\n",
            "15: 63\n",
            "16: 93\n",
            "17: 81\n",
            "18: 85\n"
          ]
        }
      ]
    },
    {
      "cell_type": "markdown",
      "metadata": {
        "id": "waxn4B2UDHyl"
      },
      "source": [
        "---"
      ]
    }
  ]
}